{
  "nbformat": 4,
  "nbformat_minor": 0,
  "metadata": {
    "colab": {
      "provenance": [],
      "mount_file_id": "1uLiyAcehBTS6jbCgG2K5LARTN0ANTZIR",
      "authorship_tag": "ABX9TyOwXCt/crKyI9PwfCP/phkI",
      "include_colab_link": true
    },
    "kernelspec": {
      "name": "python3",
      "display_name": "Python 3"
    },
    "language_info": {
      "name": "python"
    }
  },
  "cells": [
    {
      "cell_type": "markdown",
      "metadata": {
        "id": "view-in-github",
        "colab_type": "text"
      },
      "source": [
        "<a href=\"https://colab.research.google.com/github/mickeykim70/DL_scratch/blob/main/gradient_simplenet_descent.ipynb\" target=\"_parent\"><img src=\"https://colab.research.google.com/assets/colab-badge.svg\" alt=\"Open In Colab\"/></a>"
      ]
    },
    {
      "cell_type": "code",
      "execution_count": 13,
      "metadata": {
        "id": "-jPboLiqys7j"
      },
      "outputs": [],
      "source": [
        "import sys, os\n",
        "import numpy as np\n",
        "sys.path.append(\"/content/drive/MyDrive/deep-learning-from-scratch-master\")"
      ]
    },
    {
      "cell_type": "code",
      "source": [
        "from common.functions import softmax, cross_entropy_error\n",
        "from common.gradient import numerical_gradient"
      ],
      "metadata": {
        "id": "Arf4kWg67Q0D"
      },
      "execution_count": 14,
      "outputs": []
    },
    {
      "cell_type": "code",
      "source": [
        "class simpleNet:\n",
        "    def __init__(self):\n",
        "        self.W = np.random.randn(2,3)\n",
        "\n",
        "    def predict(self, x):\n",
        "        return np.dot(x, self.W)\n",
        "\n",
        "    def loss(self, x, t):\n",
        "        z = self.predict(x)\n",
        "        y = softmax(z)\n",
        "        loss = cross_entropy_error(y, t)\n",
        "\n",
        "        return loss"
      ],
      "metadata": {
        "id": "a4V3kgyV7jUK"
      },
      "execution_count": 15,
      "outputs": []
    },
    {
      "cell_type": "code",
      "source": [
        "x = np.array([0.6, 0.9])\n",
        "t = np.array([0.0, 0.0, 1.0])"
      ],
      "metadata": {
        "id": "51R1-6Vj7_yM"
      },
      "execution_count": 16,
      "outputs": []
    },
    {
      "cell_type": "code",
      "source": [
        "net = simpleNet()"
      ],
      "metadata": {
        "id": "O1iDszxF8ZJN"
      },
      "execution_count": 17,
      "outputs": []
    },
    {
      "cell_type": "code",
      "source": [
        "f = lambda w: net.loss(x, t)\n",
        "dW = numerical_gradient(f, net.W)\n",
        "\n",
        "print(dW)"
      ],
      "metadata": {
        "colab": {
          "base_uri": "https://localhost:8080/"
        },
        "id": "UIK6ERZn8bP0",
        "outputId": "00f51ecf-b7ca-4fc9-8056-73c4091d0151"
      },
      "execution_count": 18,
      "outputs": [
        {
          "output_type": "stream",
          "name": "stdout",
          "text": [
            "[[ 0.22601992  0.33032042 -0.55634034]\n",
            " [ 0.33902988  0.49548063 -0.83451051]]\n"
          ]
        }
      ]
    },
    {
      "cell_type": "code",
      "source": [
        "for i in range(5):\n",
        "    print(net.W)\n",
        "    print(softmax(net.predict(x)))\n",
        "    print(net.loss(x,t))\n",
        "    net.W -= dW"
      ],
      "metadata": {
        "colab": {
          "base_uri": "https://localhost:8080/"
        },
        "id": "WDo9prDC8j69",
        "outputId": "0c4da24c-baee-4c8e-8e1a-89abe1fdc94b"
      },
      "execution_count": 20,
      "outputs": [
        {
          "output_type": "stream",
          "name": "stdout",
          "text": [
            "[[ 0.07409306  0.53323779 -1.44560066]\n",
            " [-0.10434727  0.01115625 -0.91812643]]\n",
            "[0.37670039 0.55053479 0.07276483]\n",
            "2.620521237861863\n",
            "[[-0.15192686  0.20291737 -0.88926032]\n",
            " [-0.44337715 -0.48432438 -0.08361592]]\n",
            "[0.32460659 0.38709417 0.28829925]\n",
            "1.2437559451315119\n",
            "[[-0.37794678 -0.12740305 -0.33291997]\n",
            " [-0.78240703 -0.97980501  0.75089459]]\n",
            "[0.16510714 0.16065555 0.67423731]\n",
            "0.3941729940975366\n",
            "[[-0.60396671 -0.45772347  0.22342037]\n",
            " [-1.12143692 -1.47528563  1.5854051 ]]\n",
            "[0.0486141  0.03859782 0.91278808]\n",
            "0.09125143239294618\n",
            "[[-0.82998663 -0.78804389  0.77976071]\n",
            " [-1.4604668  -1.97076626  2.41991561]]\n",
            "[0.01136633 0.00736362 0.98127006]\n",
            "0.01890746824235124\n"
          ]
        }
      ]
    },
    {
      "cell_type": "code",
      "source": [],
      "metadata": {
        "id": "SJnyWXUS9CgO"
      },
      "execution_count": null,
      "outputs": []
    }
  ]
}