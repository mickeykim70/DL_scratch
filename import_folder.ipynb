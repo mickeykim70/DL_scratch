{
  "nbformat": 4,
  "nbformat_minor": 0,
  "metadata": {
    "colab": {
      "provenance": [],
      "authorship_tag": "ABX9TyPgO21EgGmmrbmh3q4ycJPY",
      "include_colab_link": true
    },
    "kernelspec": {
      "name": "python3",
      "display_name": "Python 3"
    },
    "language_info": {
      "name": "python"
    }
  },
  "cells": [
    {
      "cell_type": "markdown",
      "metadata": {
        "id": "view-in-github",
        "colab_type": "text"
      },
      "source": [
        "<a href=\"https://colab.research.google.com/github/mickeykim70/DL_scratch/blob/main/import_folder.ipynb\" target=\"_parent\"><img src=\"https://colab.research.google.com/assets/colab-badge.svg\" alt=\"Open In Colab\"/></a>"
      ]
    },
    {
      "cell_type": "code",
      "execution_count": null,
      "metadata": {
        "id": "zuybc2Fpnxe-"
      },
      "outputs": [],
      "source": [
        "import os\n",
        "import sys\n",
        "from pathlib import Path\n",
        "import numpy as np\n",
        "import matplotlib.pyplot as plt\n",
        "from skimage.io import imread\n",
        "\n",
        "# 프로젝트 기본 경로 설정\n",
        "BASE_DIR = Path(\"/content/drive/MyDrive/deep-learning-from-scratch-master\")\n",
        "sys.path.append(str(BASE_DIR))\n",
        "\n",
        "# 데이터셋 경로 설정\n",
        "DATASET_DIR = BASE_DIR / 'dataset'\n",
        "\n",
        "# 필요한 경우 경로가 존재하는지 확인\n",
        "if not DATASET_DIR.exists():\n",
        "    raise FileNotFoundError(f\"Dataset directory not found at {DATASET_DIR}\")"
      ]
    },
    {
      "cell_type": "code",
      "source": [
        "from ch07.simple_convnet import SimpleConvNet\n",
        "from common.layers import Pooling"
      ],
      "metadata": {
        "id": "PwmuaMbhoAaS"
      },
      "execution_count": null,
      "outputs": []
    }
  ]
}