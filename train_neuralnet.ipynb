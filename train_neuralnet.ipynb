{
  "nbformat": 4,
  "nbformat_minor": 0,
  "metadata": {
    "colab": {
      "provenance": [],
      "mount_file_id": "1KFQuW8xHsSrcS82rB6VJOzWEMI1z5PzO",
      "authorship_tag": "ABX9TyO+O8P7J+FL13OeXs9jPIhl",
      "include_colab_link": true
    },
    "kernelspec": {
      "name": "python3",
      "display_name": "Python 3"
    },
    "language_info": {
      "name": "python"
    }
  },
  "cells": [
    {
      "cell_type": "markdown",
      "metadata": {
        "id": "view-in-github",
        "colab_type": "text"
      },
      "source": [
        "<a href=\"https://colab.research.google.com/github/mickeykim70/DL_scratch/blob/main/train_neuralnet.ipynb\" target=\"_parent\"><img src=\"https://colab.research.google.com/assets/colab-badge.svg\" alt=\"Open In Colab\"/></a>"
      ]
    },
    {
      "cell_type": "code",
      "execution_count": 3,
      "metadata": {
        "id": "Du-ZEiHf176k"
      },
      "outputs": [],
      "source": [
        "import sys, os\n",
        "sys.path.append(\"/content/drive/MyDrive/deep-learning-from-scratch-master\")\n",
        "import numpy as np\n",
        "import matplotlib.pyplot as plt\n",
        "from dataset.mnist import load_mnist\n",
        "from ch04.two_layer_net import TwoLayerNet"
      ]
    },
    {
      "cell_type": "code",
      "source": [
        "# 데이터 읽기\n",
        "(x_train, t_train), (x_test, t_test) = load_mnist(normalize=True, one_hot_label=True)\n",
        "\n",
        "network = TwoLayerNet(input_size=784, hidden_size=50, output_size=10)"
      ],
      "metadata": {
        "id": "UfTFvtLo2_PI"
      },
      "execution_count": 4,
      "outputs": []
    },
    {
      "cell_type": "code",
      "source": [
        "# 하이퍼파라미터\n",
        "iters_num = 10000\n",
        "train_size = x_train.shape[0]\n",
        "batch_size = 100\n",
        "learning_rate = 1\n",
        "\n",
        "train_loss_list = []\n",
        "train_acc_list = []\n",
        "test_acc_list = []"
      ],
      "metadata": {
        "id": "eg0XIBkU31t_"
      },
      "execution_count": 10,
      "outputs": []
    },
    {
      "cell_type": "code",
      "source": [
        "# 1 epoch 당 반복 회수\n",
        "iter_per_epoch = max(train_size/batch_size, 1)\n",
        "\n",
        "for i in range(iters_num):\n",
        "    # 미니배치 획득\n",
        "    batch_mask = np.random.choice(train_size, batch_size)\n",
        "    x_batch = x_train[batch_mask]\n",
        "    t_batch = t_train[batch_mask]\n",
        "\n",
        "    # 기울기 계산\n",
        "    #grad = network.numerical_gradient(x_batch, t_batch)\n",
        "    grad = network.gradient(x_batch, t_batch)\n",
        "\n",
        "    # 매개변수 갱신\n",
        "    for key in ('W1', 'b1', 'W2', 'b2'):\n",
        "        network.params[key] -= learning_rate*grad[key]\n",
        "\n",
        "    # 학습경과 기록\n",
        "    loss = network.loss(x_batch, t_batch)\n",
        "    train_loss_list.append(loss)\n",
        "\n",
        "    # 1 epoch 당 정확도 계산\n",
        "    if i % iter_per_epoch == 0:\n",
        "        train_acc = network.accuracy(x_train, t_train)\n",
        "        test_acc = network.accuracy(x_test, t_test)\n",
        "        train_acc_list.append(train_acc)\n",
        "        test_acc_list.append(test_acc)\n",
        "        print(\"Train acc, test acc | \" + str(train_acc) + \", \" + str(test_acc))\n"
      ],
      "metadata": {
        "colab": {
          "base_uri": "https://localhost:8080/"
        },
        "id": "ZuYaW1yU4K8n",
        "outputId": "f02ff1a9-ee07-4b2f-879a-b50f738c67c0"
      },
      "execution_count": 11,
      "outputs": [
        {
          "output_type": "stream",
          "name": "stdout",
          "text": [
            "Train acc, test acc | 0.94445, 0.9417\n",
            "Train acc, test acc | 0.9552, 0.9497\n",
            "Train acc, test acc | 0.9627666666666667, 0.957\n",
            "Train acc, test acc | 0.9680333333333333, 0.9603\n",
            "Train acc, test acc | 0.9724666666666667, 0.9641\n",
            "Train acc, test acc | 0.9765666666666667, 0.9668\n",
            "Train acc, test acc | 0.97745, 0.9671\n",
            "Train acc, test acc | 0.9779666666666667, 0.9667\n",
            "Train acc, test acc | 0.9805, 0.9687\n",
            "Train acc, test acc | 0.98275, 0.97\n",
            "Train acc, test acc | 0.98445, 0.9713\n",
            "Train acc, test acc | 0.9858333333333333, 0.9696\n",
            "Train acc, test acc | 0.9868666666666667, 0.9694\n",
            "Train acc, test acc | 0.9886666666666667, 0.9715\n",
            "Train acc, test acc | 0.9886166666666667, 0.9714\n",
            "Train acc, test acc | 0.9865833333333334, 0.9683\n",
            "Train acc, test acc | 0.9885833333333334, 0.9709\n"
          ]
        }
      ]
    },
    {
      "cell_type": "code",
      "source": [
        "# graph 그리기\n",
        "markers = {'train': 'o', 'test': 's'}\n",
        "x = np.arange(len(train_acc_list))\n",
        "plt.plot(x, train_acc_list, label='train acc')\n",
        "plt.plot(x, test_acc_list, label='test acc', linestyle='--')\n",
        "plt.xlabel('epochs')\n",
        "plt.ylabel('accuracy')\n",
        "plt.ylim(0, 1.0)\n",
        "plt.legend(loc='lower right')\n",
        "plt.show()\n"
      ],
      "metadata": {
        "colab": {
          "base_uri": "https://localhost:8080/",
          "height": 455
        },
        "id": "zjVBVL4u4Mpb",
        "outputId": "023e678c-c3f5-4f7e-bf31-320b190b9413"
      },
      "execution_count": 12,
      "outputs": [
        {
          "output_type": "display_data",
          "data": {
            "text/plain": [
              "<Figure size 640x480 with 1 Axes>"
            ],
            "image/png": "[encoded data removed]"
          },
          "metadata": {}
        }
      ]
    },
    {
      "cell_type": "code",
      "source": [],
      "metadata": {
        "id": "6JgJTpgP8V1E"
      },
      "execution_count": null,
      "outputs": []
    }
  ]
}