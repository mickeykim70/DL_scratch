{
 "cells": [
  {
   "cell_type": "code",
   "id": "initial_id",
   "metadata": {
    "collapsed": true,
    "ExecuteTime": {
     "end_time": "2025-01-11T12:49:14.193761Z",
     "start_time": "2025-01-11T12:49:14.125560Z"
    }
   },
   "source": [
    "import sys\n",
    "\n",
    "from tensorflow.python.ops.gen_io_ops import identity_reader\n",
    "\n",
    "from textbook_2.ch02.count_method_small import word_to_id, id_to_word\n",
    "from textbook_2.ch02.ppmi import vocab_size\n",
    "\n",
    "sys.path.append(\"..\")\n",
    "from common.util import preprocess, create_co_matrix, most_similar"
   ],
   "outputs": [],
   "execution_count": 2
  },
  {
   "metadata": {
    "ExecuteTime": {
     "end_time": "2025-01-11T12:50:59.752497Z",
     "start_time": "2025-01-11T12:50:59.745668Z"
    }
   },
   "cell_type": "code",
   "source": [
    "text = \"You say goodbye and I say hello.\"\n",
    "\n",
    "corpus, word_to_id, id_to_word = preprocess(text)\n",
    "vocab_size = len(word_to_id)\n",
    "C = create_co_matrix(corpus, vocab_size)\n",
    "\n",
    "most_similar(\"you\", word_to_id, id_to_word, C, top=5)"
   ],
   "id": "2ef25b3f8818a803",
   "outputs": [
    {
     "name": "stdout",
     "output_type": "stream",
     "text": [
      "\n",
      "[query] you\n",
      " goodbye: 0.7071067691154799\n",
      " i: 0.7071067691154799\n",
      " hello: 0.7071067691154799\n",
      " say: 0.0\n",
      " and: 0.0\n"
     ]
    }
   ],
   "execution_count": 4
  },
  {
   "metadata": {},
   "cell_type": "code",
   "outputs": [],
   "execution_count": null,
   "source": "",
   "id": "3d937d1afcb8cb30"
  }
 ],
 "metadata": {
  "kernelspec": {
   "display_name": "Python 3",
   "language": "python",
   "name": "python3"
  },
  "language_info": {
   "codemirror_mode": {
    "name": "ipython",
    "version": 2
   },
   "file_extension": ".py",
   "mimetype": "text/x-python",
   "name": "python",
   "nbconvert_exporter": "python",
   "pygments_lexer": "ipython2",
   "version": "2.7.6"
  }
 },
 "nbformat": 4,
 "nbformat_minor": 5
}
