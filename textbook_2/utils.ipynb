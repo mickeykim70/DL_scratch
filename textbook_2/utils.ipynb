{
 "cells": [
  {
   "cell_type": "code",
   "id": "initial_id",
   "metadata": {
    "collapsed": true,
    "ExecuteTime": {
     "end_time": "2025-01-11T12:22:28.829124Z",
     "start_time": "2025-01-11T12:22:28.692689Z"
    }
   },
   "source": [
    "import sys\n",
    "from zipfile import sizeEndCentDir64Locator\n",
    "\n",
    "import numpy as np\n",
    "\n",
    "from textbook_2.ch02.count_method_small import word_to_id, id_to_word\n",
    "\n",
    "sys.path.append(\"..\")\n",
    "import os\n",
    "from common.np import *"
   ],
   "outputs": [],
   "execution_count": 4
  },
  {
   "metadata": {
    "ExecuteTime": {
     "end_time": "2025-01-11T12:22:28.910513Z",
     "start_time": "2025-01-11T12:22:28.890075Z"
    }
   },
   "cell_type": "code",
   "source": [
    "def preprocess(text):\n",
    "    text = text.lower()\n",
    "    text = text.replace('.', ' .')\n",
    "    words = text.split(' ')\n",
    "\n",
    "    word_to_id = {}\n",
    "    id_to_word = {}\n",
    "\n",
    "    for word in words:\n",
    "        if word not in word_to_id:\n",
    "            new_id = len(word_to_id)\n",
    "            word_to_id[word] = new_id\n",
    "            id_to_word[new_id] = word\n",
    "\n",
    "    corpus = np.array([word_to_id[w] for w in words])\n",
    "\n",
    "    return corpus, word_to_id, id_to_word"
   ],
   "id": "3cf005818441b750",
   "outputs": [],
   "execution_count": 5
  },
  {
   "metadata": {
    "ExecuteTime": {
     "end_time": "2025-01-11T12:22:28.919233Z",
     "start_time": "2025-01-11T12:22:28.916646Z"
    }
   },
   "cell_type": "code",
   "source": [
    "text = \"You say goodbye and I say hello.\"\n",
    "corpus, _, _ = preprocess(text)\n"
   ],
   "id": "a2821d6588f69571",
   "outputs": [],
   "execution_count": 6
  },
  {
   "metadata": {
    "ExecuteTime": {
     "end_time": "2025-01-11T12:22:28.933107Z",
     "start_time": "2025-01-11T12:22:28.928492Z"
    }
   },
   "cell_type": "code",
   "source": [
    "def create_co_matrix(corpus, vocab_size, window_size=1):\n",
    "    corpus_size = len(corpus)\n",
    "    co_matrix = np.zeros((vocab_size,vocab_size), dtype=np.int32)\n",
    "\n",
    "    for idx, word_id in enumerate(corpus):\n",
    "        for i in range(1, window_size+1):\n",
    "            left_idx = idx-1\n",
    "            right_idx = idx+1\n",
    "\n",
    "            if left_idx >= 0:\n",
    "                left_word_id = corpus[left_idx]\n",
    "                co_matrix[word_id, left_word_id] += 1\n",
    "            if right_idx < corpus_size:\n",
    "                right_word_id = corpus[right_idx]\n",
    "                co_matrix[word_id, right_word_id] += 1\n",
    "\n",
    "    return co_matrix\n"
   ],
   "id": "fbd85f44dbe5ea2e",
   "outputs": [],
   "execution_count": 7
  },
  {
   "metadata": {
    "ExecuteTime": {
     "end_time": "2025-01-11T12:22:28.948658Z",
     "start_time": "2025-01-11T12:22:28.942891Z"
    }
   },
   "cell_type": "code",
   "source": "create_co_matrix(corpus, 7, 1)",
   "id": "faa449d47a0bd364",
   "outputs": [
    {
     "data": {
      "text/plain": [
       "array([[0, 1, 0, 0, 0, 0, 0],\n",
       "       [1, 0, 1, 0, 1, 1, 0],\n",
       "       [0, 1, 0, 1, 0, 0, 0],\n",
       "       [0, 0, 1, 0, 1, 0, 0],\n",
       "       [0, 1, 0, 1, 0, 0, 0],\n",
       "       [0, 1, 0, 0, 0, 0, 1],\n",
       "       [0, 0, 0, 0, 0, 1, 0]], dtype=int32)"
      ]
     },
     "execution_count": 8,
     "metadata": {},
     "output_type": "execute_result"
    }
   ],
   "execution_count": 8
  },
  {
   "metadata": {
    "ExecuteTime": {
     "end_time": "2025-01-11T12:22:28.974699Z",
     "start_time": "2025-01-11T12:22:28.972105Z"
    }
   },
   "cell_type": "code",
   "source": [
    "def cos_similarity(x, y, eps=1e-08):\n",
    "    nx = x / (np.sqrt(np.sum(x**2)) + eps)\n",
    "    ny = y / (np.sqrt(np.sum(y**2)) + eps)\n",
    "    return np.dot(nx, ny)"
   ],
   "id": "fe6b4e095b9ad2fc",
   "outputs": [],
   "execution_count": 9
  },
  {
   "metadata": {
    "ExecuteTime": {
     "end_time": "2025-01-11T12:27:21.929654Z",
     "start_time": "2025-01-11T12:27:21.926630Z"
    }
   },
   "cell_type": "code",
   "source": "C = create_co_matrix(corpus, vocab_size=7)",
   "id": "b7e9f53ce2240272",
   "outputs": [],
   "execution_count": 12
  },
  {
   "metadata": {
    "ExecuteTime": {
     "end_time": "2025-01-11T12:31:15.731924Z",
     "start_time": "2025-01-11T12:31:15.729959Z"
    }
   },
   "cell_type": "code",
   "source": [
    "c0 = C[0]\n",
    "c1 = C[4]"
   ],
   "id": "b9550818c2b00d72",
   "outputs": [],
   "execution_count": 24
  },
  {
   "metadata": {
    "ExecuteTime": {
     "end_time": "2025-01-11T12:31:16.771037Z",
     "start_time": "2025-01-11T12:31:16.766443Z"
    }
   },
   "cell_type": "code",
   "source": "c0, c1",
   "id": "4b5189df2ec77c08",
   "outputs": [
    {
     "data": {
      "text/plain": [
       "(array([0, 1, 0, 0, 0, 0, 0], dtype=int32),\n",
       " array([0, 1, 0, 1, 0, 0, 0], dtype=int32))"
      ]
     },
     "execution_count": 25,
     "metadata": {},
     "output_type": "execute_result"
    }
   ],
   "execution_count": 25
  },
  {
   "metadata": {
    "ExecuteTime": {
     "end_time": "2025-01-11T12:31:27.832072Z",
     "start_time": "2025-01-11T12:31:27.826055Z"
    }
   },
   "cell_type": "code",
   "source": "cos_similarity(c0, c1)",
   "id": "21afa1531686404e",
   "outputs": [
    {
     "data": {
      "text/plain": [
       "0.7071067691154799"
      ]
     },
     "execution_count": 26,
     "metadata": {},
     "output_type": "execute_result"
    }
   ],
   "execution_count": 26
  },
  {
   "metadata": {
    "ExecuteTime": {
     "end_time": "2025-01-11T12:44:47.355634Z",
     "start_time": "2025-01-11T12:44:47.349620Z"
    }
   },
   "cell_type": "code",
   "source": [
    "def most_similar(query, word_to_id, id_to_word, word_matrix, top=5):\n",
    "\n",
    "    if query not in word_to_id:\n",
    "        print(f\"{query}를 찾을 수 없습니다.\")\n",
    "        return\n",
    "\n",
    "    print(\"\\n[query] \" + query)\n",
    "    query_id = word_to_id[query]\n",
    "    query_vec = word_matrix[query_id]\n",
    "\n",
    "    vocab_size = len(id_to_word)\n",
    "\n",
    "    similarity = np.zeros(vocab_size)\n",
    "\n",
    "    for i in range(vocab_size):\n",
    "        similarity[i] = cos_similarity(word_matrix[i], query_vec)\n",
    "\n",
    "    count = 0\n",
    "    for i in (-1*similarity).argsort():\n",
    "        if id_to_word[i] == query:\n",
    "            continue\n",
    "        print(f\"{id_to_word[i]}: {similarity[i]}\")\n",
    "\n",
    "        count += 1\n",
    "        if count >= top:\n",
    "            return"
   ],
   "id": "b0692aac46cb8379",
   "outputs": [],
   "execution_count": 29
  },
  {
   "metadata": {},
   "cell_type": "code",
   "outputs": [],
   "execution_count": null,
   "source": "",
   "id": "8eee3d2afee41c85"
  }
 ],
 "metadata": {
  "kernelspec": {
   "display_name": "Python 3",
   "language": "python",
   "name": "python3"
  },
  "language_info": {
   "codemirror_mode": {
    "name": "ipython",
    "version": 2
   },
   "file_extension": ".py",
   "mimetype": "text/x-python",
   "name": "python",
   "nbconvert_exporter": "python",
   "pygments_lexer": "ipython2",
   "version": "2.7.6"
  }
 },
 "nbformat": 4,
 "nbformat_minor": 5
}
